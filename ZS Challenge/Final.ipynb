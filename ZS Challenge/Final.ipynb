{
 "cells": [
  {
   "cell_type": "code",
   "execution_count": 1,
   "metadata": {},
   "outputs": [],
   "source": [
    "import pandas as pd\n",
    "import numpy as np\n",
    "import seaborn as sns\n",
    "import matplotlib.pyplot as plt\n",
    "pd.set_option('display.max_columns', 100)\n",
    "import warnings\n",
    "warnings.filterwarnings(\"ignore\")\n",
    "%matplotlib inline"
   ]
  },
  {
   "cell_type": "code",
   "execution_count": 26,
   "metadata": {},
   "outputs": [
    {
     "name": "stdout",
     "output_type": "stream",
     "text": [
      "(55899, 16)\n",
      "33539\n",
      "22360\n"
     ]
    }
   ],
   "source": [
    "train_data = pd.read_csv('train_file.csv', parse_dates = ['Application Date','Issue Date','Final Date','Expiration Date'])\n",
    "test_data = pd.read_csv('test_file.csv', parse_dates = ['Application Date','Issue Date','Final Date','Expiration Date'])\n",
    "test_IDS = test_data['Application/Permit Number']\n",
    "n_train_data = train_data.shape[0]\n",
    "n_test_data = test_data.shape[0]\n",
    "data = pd.concat([train_data,test_data], sort=False)\n",
    "del data['Application/Permit Number']\n",
    "del data['Location']\n",
    "del data['Permit and Complaint Status URL']\n",
    "print(data.shape)\n",
    "print(n_train_data)\n",
    "print(n_test_data)"
   ]
  },
  {
   "cell_type": "code",
   "execution_count": 27,
   "metadata": {},
   "outputs": [
    {
     "data": {
      "text/plain": [
       "<matplotlib.axes._subplots.AxesSubplot at 0x7f4b8df04160>"
      ]
     },
     "execution_count": 27,
     "metadata": {},
     "output_type": "execute_result"
    },
    {
     "data": {
      "image/png": "[encoded data removed]",
      "text/plain": [
       "<Figure size 1080x576 with 1 Axes>"
      ]
     },
     "metadata": {
      "needs_background": "light"
     },
     "output_type": "display_data"
    }
   ],
   "source": [
    "plt.figure(figsize=(15,8))\n",
    "sns.countplot(data['Category'])"
   ]
  },
  {
   "cell_type": "code",
   "execution_count": 28,
   "metadata": {},
   "outputs": [
    {
     "data": {
      "text/html": [
       "<div>\n",
       "<style scoped>\n",
       "    .dataframe tbody tr th:only-of-type {\n",
       "        vertical-align: middle;\n",
       "    }\n",
       "\n",
       "    .dataframe tbody tr th {\n",
       "        vertical-align: top;\n",
       "    }\n",
       "\n",
       "    .dataframe thead th {\n",
       "        text-align: right;\n",
       "    }\n",
       "</style>\n",
       "<table border=\"1\" class=\"dataframe\">\n",
       "  <thead>\n",
       "    <tr style=\"text-align: right;\">\n",
       "      <th></th>\n",
       "      <th>Permit Type</th>\n",
       "      <th>Address</th>\n",
       "      <th>Description</th>\n",
       "      <th>Action Type</th>\n",
       "      <th>Work Type</th>\n",
       "      <th>Applicant Name</th>\n",
       "      <th>Application Date</th>\n",
       "      <th>Issue Date</th>\n",
       "      <th>Final Date</th>\n",
       "      <th>Expiration Date</th>\n",
       "      <th>Status</th>\n",
       "      <th>Contractor</th>\n",
       "      <th>Master Use Permit</th>\n",
       "      <th>Latitude</th>\n",
       "      <th>Longitude</th>\n",
       "      <th>Category</th>\n",
       "    </tr>\n",
       "  </thead>\n",
       "  <tbody>\n",
       "    <tr>\n",
       "      <th>0</th>\n",
       "      <td>Construction</td>\n",
       "      <td>1924 10TH AVE E</td>\n",
       "      <td>Alterations to single family residence, (porti...</td>\n",
       "      <td>ADD/ALT</td>\n",
       "      <td>No plan review</td>\n",
       "      <td>ZHANG, JERRY</td>\n",
       "      <td>2018-01-16</td>\n",
       "      <td>2018-01-16</td>\n",
       "      <td>NaT</td>\n",
       "      <td>2019-07-16</td>\n",
       "      <td>Permit Issued</td>\n",
       "      <td>NaN</td>\n",
       "      <td>NaN</td>\n",
       "      <td>47.636732</td>\n",
       "      <td>-122.319828</td>\n",
       "      <td>SINGLE FAMILY / DUPLEX</td>\n",
       "    </tr>\n",
       "    <tr>\n",
       "      <th>1</th>\n",
       "      <td>Construction</td>\n",
       "      <td>9434 DELRIDGE WAY SW</td>\n",
       "      <td>Change use permit from restaurant to residenti...</td>\n",
       "      <td>ADD/ALT</td>\n",
       "      <td>Plan Review</td>\n",
       "      <td>MARTIN, TERRY</td>\n",
       "      <td>2015-02-13</td>\n",
       "      <td>2015-04-16</td>\n",
       "      <td>2016-11-15</td>\n",
       "      <td>2016-10-16</td>\n",
       "      <td>Permit Closed</td>\n",
       "      <td>NaN</td>\n",
       "      <td>NaN</td>\n",
       "      <td>47.518298</td>\n",
       "      <td>-122.355555</td>\n",
       "      <td>COMMERCIAL</td>\n",
       "    </tr>\n",
       "    <tr>\n",
       "      <th>2</th>\n",
       "      <td>Construction</td>\n",
       "      <td>535 TERRY AVE N</td>\n",
       "      <td>Construct interior alterations to existing off...</td>\n",
       "      <td>ADD/ALT</td>\n",
       "      <td>No plan review</td>\n",
       "      <td>ALLEXSAHT, REBECCA</td>\n",
       "      <td>2014-09-04</td>\n",
       "      <td>2014-09-04</td>\n",
       "      <td>2015-11-20</td>\n",
       "      <td>2016-03-04</td>\n",
       "      <td>Permit Closed</td>\n",
       "      <td>IA/INTERIOR ARCHITECTS</td>\n",
       "      <td>NaN</td>\n",
       "      <td>47.624025</td>\n",
       "      <td>-122.337567</td>\n",
       "      <td>COMMERCIAL</td>\n",
       "    </tr>\n",
       "    <tr>\n",
       "      <th>3</th>\n",
       "      <td>Demolition</td>\n",
       "      <td>830 4TH AVE S</td>\n",
       "      <td>need to remove a fire escape that is not part ...</td>\n",
       "      <td>DEMOLITION</td>\n",
       "      <td>Plan Review</td>\n",
       "      <td>JUNK, FRANK</td>\n",
       "      <td>NaT</td>\n",
       "      <td>NaT</td>\n",
       "      <td>NaT</td>\n",
       "      <td>NaT</td>\n",
       "      <td>Initial Information Collected</td>\n",
       "      <td>NaN</td>\n",
       "      <td>NaN</td>\n",
       "      <td>47.595020</td>\n",
       "      <td>-122.328530</td>\n",
       "      <td>COMMERCIAL</td>\n",
       "    </tr>\n",
       "    <tr>\n",
       "      <th>4</th>\n",
       "      <td>Construction</td>\n",
       "      <td>805 NE 106TH ST</td>\n",
       "      <td>Channel modification to Thornton Creek, stream...</td>\n",
       "      <td>ADD/ALT</td>\n",
       "      <td>Plan Review</td>\n",
       "      <td>DANIEL, MARK</td>\n",
       "      <td>2013-05-02</td>\n",
       "      <td>2013-12-19</td>\n",
       "      <td>2015-05-14</td>\n",
       "      <td>2015-06-19</td>\n",
       "      <td>Permit Closed</td>\n",
       "      <td>SEATTLE PARKS DEPT</td>\n",
       "      <td>NaN</td>\n",
       "      <td>47.705686</td>\n",
       "      <td>-122.320134</td>\n",
       "      <td>COMMERCIAL</td>\n",
       "    </tr>\n",
       "  </tbody>\n",
       "</table>\n",
       "</div>"
      ],
      "text/plain": [
       "    Permit Type               Address  \\\n",
       "0  Construction       1924 10TH AVE E   \n",
       "1  Construction  9434 DELRIDGE WAY SW   \n",
       "2  Construction       535 TERRY AVE N   \n",
       "3    Demolition         830 4TH AVE S   \n",
       "4  Construction       805 NE 106TH ST   \n",
       "\n",
       "                                         Description Action Type  \\\n",
       "0  Alterations to single family residence, (porti...     ADD/ALT   \n",
       "1  Change use permit from restaurant to residenti...     ADD/ALT   \n",
       "2  Construct interior alterations to existing off...     ADD/ALT   \n",
       "3  need to remove a fire escape that is not part ...  DEMOLITION   \n",
       "4  Channel modification to Thornton Creek, stream...     ADD/ALT   \n",
       "\n",
       "        Work Type      Applicant Name Application Date Issue Date Final Date  \\\n",
       "0  No plan review        ZHANG, JERRY       2018-01-16 2018-01-16        NaT   \n",
       "1     Plan Review       MARTIN, TERRY       2015-02-13 2015-04-16 2016-11-15   \n",
       "2  No plan review  ALLEXSAHT, REBECCA       2014-09-04 2014-09-04 2015-11-20   \n",
       "3     Plan Review         JUNK, FRANK              NaT        NaT        NaT   \n",
       "4     Plan Review        DANIEL, MARK       2013-05-02 2013-12-19 2015-05-14   \n",
       "\n",
       "  Expiration Date                         Status              Contractor  \\\n",
       "0      2019-07-16                  Permit Issued                     NaN   \n",
       "1      2016-10-16                  Permit Closed                     NaN   \n",
       "2      2016-03-04                  Permit Closed  IA/INTERIOR ARCHITECTS   \n",
       "3             NaT  Initial Information Collected                     NaN   \n",
       "4      2015-06-19                  Permit Closed      SEATTLE PARKS DEPT   \n",
       "\n",
       "   Master Use Permit   Latitude   Longitude                Category  \n",
       "0                NaN  47.636732 -122.319828  SINGLE FAMILY / DUPLEX  \n",
       "1                NaN  47.518298 -122.355555              COMMERCIAL  \n",
       "2                NaN  47.624025 -122.337567              COMMERCIAL  \n",
       "3                NaN  47.595020 -122.328530              COMMERCIAL  \n",
       "4                NaN  47.705686 -122.320134              COMMERCIAL  "
      ]
     },
     "execution_count": 28,
     "metadata": {},
     "output_type": "execute_result"
    }
   ],
   "source": [
    "data.head()"
   ]
  },
  {
   "cell_type": "code",
   "execution_count": 29,
   "metadata": {},
   "outputs": [
    {
     "name": "stdout",
     "output_type": "stream",
     "text": [
      "<class 'pandas.core.frame.DataFrame'>\n",
      "Int64Index: 55899 entries, 0 to 22359\n",
      "Data columns (total 16 columns):\n",
      "Permit Type          55899 non-null object\n",
      "Address              55864 non-null object\n",
      "Description          55878 non-null object\n",
      "Action Type          54640 non-null object\n",
      "Work Type            55899 non-null object\n",
      "Applicant Name       55679 non-null object\n",
      "Application Date     44463 non-null datetime64[ns]\n",
      "Issue Date           38334 non-null datetime64[ns]\n",
      "Final Date           26087 non-null datetime64[ns]\n",
      "Expiration Date      38415 non-null datetime64[ns]\n",
      "Status               53290 non-null object\n",
      "Contractor           10151 non-null object\n",
      "Master Use Permit    7504 non-null float64\n",
      "Latitude             55862 non-null float64\n",
      "Longitude            55862 non-null float64\n",
      "Category             33539 non-null object\n",
      "dtypes: datetime64[ns](4), float64(3), object(9)\n",
      "memory usage: 8.5+ MB\n"
     ]
    }
   ],
   "source": [
    "data.info()"
   ]
  },
  {
   "cell_type": "code",
   "execution_count": 30,
   "metadata": {},
   "outputs": [
    {
     "data": {
      "text/html": [
       "<div>\n",
       "<style scoped>\n",
       "    .dataframe tbody tr th:only-of-type {\n",
       "        vertical-align: middle;\n",
       "    }\n",
       "\n",
       "    .dataframe tbody tr th {\n",
       "        vertical-align: top;\n",
       "    }\n",
       "\n",
       "    .dataframe thead th {\n",
       "        text-align: right;\n",
       "    }\n",
       "</style>\n",
       "<table border=\"1\" class=\"dataframe\">\n",
       "  <thead>\n",
       "    <tr style=\"text-align: right;\">\n",
       "      <th></th>\n",
       "      <th>percent_missing</th>\n",
       "    </tr>\n",
       "  </thead>\n",
       "  <tbody>\n",
       "    <tr>\n",
       "      <th>Permit Type</th>\n",
       "      <td>0.000000</td>\n",
       "    </tr>\n",
       "    <tr>\n",
       "      <th>Address</th>\n",
       "      <td>0.062613</td>\n",
       "    </tr>\n",
       "    <tr>\n",
       "      <th>Description</th>\n",
       "      <td>0.037568</td>\n",
       "    </tr>\n",
       "    <tr>\n",
       "      <th>Action Type</th>\n",
       "      <td>2.252276</td>\n",
       "    </tr>\n",
       "    <tr>\n",
       "      <th>Work Type</th>\n",
       "      <td>0.000000</td>\n",
       "    </tr>\n",
       "    <tr>\n",
       "      <th>Applicant Name</th>\n",
       "      <td>0.393567</td>\n",
       "    </tr>\n",
       "    <tr>\n",
       "      <th>Application Date</th>\n",
       "      <td>20.458327</td>\n",
       "    </tr>\n",
       "    <tr>\n",
       "      <th>Issue Date</th>\n",
       "      <td>31.422745</td>\n",
       "    </tr>\n",
       "    <tr>\n",
       "      <th>Final Date</th>\n",
       "      <td>53.331902</td>\n",
       "    </tr>\n",
       "    <tr>\n",
       "      <th>Expiration Date</th>\n",
       "      <td>31.277840</td>\n",
       "    </tr>\n",
       "    <tr>\n",
       "      <th>Status</th>\n",
       "      <td>4.667346</td>\n",
       "    </tr>\n",
       "    <tr>\n",
       "      <th>Contractor</th>\n",
       "      <td>81.840462</td>\n",
       "    </tr>\n",
       "    <tr>\n",
       "      <th>Master Use Permit</th>\n",
       "      <td>86.575788</td>\n",
       "    </tr>\n",
       "    <tr>\n",
       "      <th>Latitude</th>\n",
       "      <td>0.066191</td>\n",
       "    </tr>\n",
       "    <tr>\n",
       "      <th>Longitude</th>\n",
       "      <td>0.066191</td>\n",
       "    </tr>\n",
       "    <tr>\n",
       "      <th>Category</th>\n",
       "      <td>40.000716</td>\n",
       "    </tr>\n",
       "  </tbody>\n",
       "</table>\n",
       "</div>"
      ],
      "text/plain": [
       "                   percent_missing\n",
       "Permit Type               0.000000\n",
       "Address                   0.062613\n",
       "Description               0.037568\n",
       "Action Type               2.252276\n",
       "Work Type                 0.000000\n",
       "Applicant Name            0.393567\n",
       "Application Date         20.458327\n",
       "Issue Date               31.422745\n",
       "Final Date               53.331902\n",
       "Expiration Date          31.277840\n",
       "Status                    4.667346\n",
       "Contractor               81.840462\n",
       "Master Use Permit        86.575788\n",
       "Latitude                  0.066191\n",
       "Longitude                 0.066191\n",
       "Category                 40.000716"
      ]
     },
     "execution_count": 30,
     "metadata": {},
     "output_type": "execute_result"
    }
   ],
   "source": [
    "percent_missing = data.isnull().sum() * 100 / len(data)\n",
    "missing_value_df = pd.DataFrame({'percent_missing': percent_missing})\n",
    "missing_value_df"
   ]
  },
  {
   "cell_type": "code",
   "execution_count": 31,
   "metadata": {},
   "outputs": [
    {
     "data": {
      "text/plain": [
       "<matplotlib.axes._subplots.AxesSubplot at 0x7f4b90fc12e8>"
      ]
     },
     "execution_count": 31,
     "metadata": {},
     "output_type": "execute_result"
    },
    {
     "data": {
      "image/png": "[encoded data removed]",
      "text/plain": [
       "<Figure size 1080x576 with 1 Axes>"
      ]
     },
     "metadata": {
      "needs_background": "light"
     },
     "output_type": "display_data"
    }
   ],
   "source": [
    "plt.figure(figsize=(15,8))\n",
    "sns.barplot(y = missing_value_df['percent_missing'], x = missing_value_df.index)"
   ]
  },
  {
   "cell_type": "code",
   "execution_count": 32,
   "metadata": {},
   "outputs": [
    {
     "data": {
      "text/plain": [
       "<matplotlib.axes._subplots.AxesSubplot at 0x7f4b91a10f60>"
      ]
     },
     "execution_count": 32,
     "metadata": {},
     "output_type": "execute_result"
    },
    {
     "data": {
      "image/png": "[encoded data removed]",
      "text/plain": [
       "<Figure size 1080x576 with 1 Axes>"
      ]
     },
     "metadata": {
      "needs_background": "light"
     },
     "output_type": "display_data"
    }
   ],
   "source": [
    "plt.figure(figsize=(15,8))\n",
    "sns.countplot(data['Permit Type'])"
   ]
  },
  {
   "cell_type": "code",
   "execution_count": 33,
   "metadata": {},
   "outputs": [],
   "source": [
    "data = pd.get_dummies(data, columns=['Permit Type'])"
   ]
  },
  {
   "cell_type": "code",
   "execution_count": 34,
   "metadata": {},
   "outputs": [
    {
     "data": {
      "text/plain": [
       "ADD/ALT                          35664\n",
       "NEW                              11334\n",
       "DEMOLITION                        4360\n",
       "ALTER                             1568\n",
       "TREE/VEGETATION MAINT/RESTORE      722\n",
       "GRADING                            331\n",
       "TEMP                               293\n",
       "NO CONSTRUCTION                    182\n",
       "CURB CUT                           128\n",
       "SHORELINE EXEMPTION ONLY            20\n",
       "RELOCATION                          17\n",
       "DECONSTRUCTION                       9\n",
       "SITE MONITORING ONLY                 4\n",
       "FLOODPLAIN LICENSE ONLY              3\n",
       "DRAINAGE APPROVAL                    3\n",
       "TREE PROTECTION EXEMPTION            2\n",
       "Name: Action Type, dtype: int64"
      ]
     },
     "execution_count": 34,
     "metadata": {},
     "output_type": "execute_result"
    }
   ],
   "source": [
    "data['Action Type'].value_counts()"
   ]
  },
  {
   "cell_type": "code",
   "execution_count": 35,
   "metadata": {},
   "outputs": [
    {
     "data": {
      "text/plain": [
       "<matplotlib.axes._subplots.AxesSubplot at 0x7f4b91c6d1d0>"
      ]
     },
     "execution_count": 35,
     "metadata": {},
     "output_type": "execute_result"
    },
    {
     "data": {
      "image/png": "[encoded data removed]",
      "text/plain": [
       "<Figure size 1080x576 with 1 Axes>"
      ]
     },
     "metadata": {
      "needs_background": "light"
     },
     "output_type": "display_data"
    }
   ],
   "source": [
    "def process_action_type(x):\n",
    "    if(x in ['ADD/ALT', 'NEW', 'DEMOLITION', 'ALTER', 'TREE/VEGETATION MAINT/RESTORE'] ):\n",
    "        return x\n",
    "    else:\n",
    "        return 'OTHER'\n",
    "    \n",
    "data['Action Type'] = data['Action Type'].apply(lambda x : process_action_type(x))\n",
    "plt.figure(figsize=(15,8))\n",
    "sns.countplot(data['Action Type'])"
   ]
  },
  {
   "cell_type": "code",
   "execution_count": 36,
   "metadata": {},
   "outputs": [],
   "source": [
    "data = pd.get_dummies(data, columns=['Action Type'])"
   ]
  },
  {
   "cell_type": "code",
   "execution_count": 37,
   "metadata": {},
   "outputs": [
    {
     "data": {
      "text/plain": [
       "<matplotlib.axes._subplots.AxesSubplot at 0x7f4b92f457f0>"
      ]
     },
     "execution_count": 37,
     "metadata": {},
     "output_type": "execute_result"
    },
    {
     "data": {
      "image/png": "[encoded data removed]",
      "text/plain": [
       "<Figure size 1080x576 with 1 Axes>"
      ]
     },
     "metadata": {
      "needs_background": "light"
     },
     "output_type": "display_data"
    }
   ],
   "source": [
    "plt.figure(figsize=(15,8))\n",
    "sns.countplot(data['Work Type'])"
   ]
  },
  {
   "cell_type": "code",
   "execution_count": 38,
   "metadata": {},
   "outputs": [],
   "source": [
    "data['Work Type'] = data['Work Type'].apply(lambda x : 1 if x=='Plan Review' else 0)"
   ]
  },
  {
   "cell_type": "code",
   "execution_count": 39,
   "metadata": {},
   "outputs": [
    {
     "data": {
      "image/png": "[encoded data removed]",
      "text/plain": [
       "<Figure size 1080x576 with 1 Axes>"
      ]
     },
     "metadata": {
      "needs_background": "light"
     },
     "output_type": "display_data"
    }
   ],
   "source": [
    "data['Status'] = data['Status'].fillna('Not Known')\n",
    "def process_status(x):\n",
    "    if(x in [\"Permit Closed\", \"Permit Issued\", \"Initial Information Collected\", \"Not Known\", \"Application Accepted\", \"CANCELLED\", \"Reviews Completed\"]):\n",
    "        return x\n",
    "    return \"Others\"\n",
    "\n",
    "data['Status'] = data['Status'].apply(lambda x : process_status(x))\n",
    "plt.figure(figsize=(15,8))\n",
    "sns.countplot(data['Status'])\n",
    "data = pd.get_dummies(data, columns=['Status'])"
   ]
  },
  {
   "cell_type": "code",
   "execution_count": 40,
   "metadata": {},
   "outputs": [
    {
     "data": {
      "image/png": "[encoded data removed]",
      "text/plain": [
       "<Figure size 1080x576 with 1 Axes>"
      ]
     },
     "metadata": {
      "needs_background": "light"
     },
     "output_type": "display_data"
    }
   ],
   "source": [
    "data['Contractor'] = data['Contractor'].fillna('Not Known')\n",
    "def process_contractors(x):\n",
    "    if(x in [\"Not Known\", \"SEATTLE HOUSING AUTH GENERAL\", \"SEATTLE SCHOOL DISTRICT (A&S)\", \"U OF W BUILDING PERMIT\", \"SEATTLE PARKS DEPT\", \"CITY OF SEA F&FD\", \"SAGE HOMES NORTHWEST, LLC\", \"BURGESS DESIGN, INC\", \"BURGESS DESIGN, INC\", \"SOUND SEISMIC\"]):\n",
    "        return x\n",
    "    return \"Others\"\n",
    "\n",
    "\n",
    "data['Contractor'] = data['Contractor'].apply(lambda x : process_contractors(x))\n",
    "plt.figure(figsize=(15,8))\n",
    "sns.countplot(data['Contractor'])\n",
    "data = pd.get_dummies(data, columns=['Contractor'])"
   ]
  },
  {
   "cell_type": "code",
   "execution_count": 41,
   "metadata": {},
   "outputs": [],
   "source": [
    "del data['Master Use Permit']"
   ]
  },
  {
   "cell_type": "code",
   "execution_count": 42,
   "metadata": {},
   "outputs": [],
   "source": [
    "data['Pos-x'] = np.cos(data['Latitude']) * np.cos(data['Longitude'])\n",
    "data['Pos-y'] = np.cos(data['Latitude']) * np.sin(data['Longitude'])\n",
    "data['Pos-z'] = np.sin(data['Latitude'])\n",
    "\n",
    "data['Pos-x'] = data['Pos-x'].fillna('-1')\n",
    "data['Pos-y'] = data['Pos-y'].fillna('-1')\n",
    "data['Pos-z'] = data['Pos-z'].fillna('-1')\n",
    "\n",
    "del data['Latitude']\n",
    "del data['Longitude']"
   ]
  },
  {
   "cell_type": "code",
   "execution_count": 43,
   "metadata": {},
   "outputs": [],
   "source": [
    "def get_address_number(x):\n",
    "    try:\n",
    "        add_num = np.array(x.split())[0]\n",
    "        return add_num\n",
    "    except:\n",
    "        return x\n",
    "\n",
    "def get_rem_address(x):\n",
    "    try:\n",
    "        rem_address = np.array(x.split())[1:]\n",
    "        return ' '.join(rem_address)\n",
    "    except:\n",
    "        return x\n",
    "    \n",
    "data['Address Number'] = data['Address'].apply(lambda x : get_address_number(x))\n",
    "data['Remaining Address'] = data['Address'].apply(lambda x : get_rem_address(x))"
   ]
  },
  {
   "cell_type": "code",
   "execution_count": 44,
   "metadata": {},
   "outputs": [],
   "source": [
    "relevant_address_numbers = [x for x,y in dict(data['Address Number'].value_counts()).items() if y>100]\n",
    "\n",
    "def process_address_number(x):\n",
    "    if(x in relevant_address_numbers):\n",
    "        return x\n",
    "    return 'Other'\n",
    "\n",
    "data['Address Number'] = data['Address Number'].apply(lambda x : process_address_number(x))\n",
    "data = pd.get_dummies(data, columns=['Address Number'])\n",
    "\n",
    "relevant_remaining_address = [x for x,y in dict(data['Remaining Address'].value_counts()).items() if y>300]\n",
    "\n",
    "def process_remaining_address(x):\n",
    "    if(x in relevant_remaining_address):\n",
    "        return x\n",
    "    return 'Other'\n",
    "\n",
    "data['Remaining Address'] = data['Remaining Address'].apply(lambda x : process_remaining_address(x))\n",
    "data = pd.get_dummies(data, columns=['Remaining Address'])\n",
    "\n",
    "del data['Address']"
   ]
  },
  {
   "cell_type": "code",
   "execution_count": 45,
   "metadata": {},
   "outputs": [],
   "source": [
    "data['Application-Issue'] = data['Issue Date'].sub(data['Application Date'], axis=0)\n",
    "data['Application-Issue'] = data['Application-Issue'] / np.timedelta64(1, 'D')\n",
    "\n",
    "data['Issue-Final'] = data['Final Date'].sub(data['Issue Date'], axis=0)\n",
    "data['Issue-Final'] = data['Issue-Final'] / np.timedelta64(1, 'D')\n",
    "\n",
    "data['Issue-Expiration'] = data['Expiration Date'].sub(data['Issue Date'], axis=0)\n",
    "data['Issue-Expiration'] = data['Issue-Expiration'] / np.timedelta64(1, 'D')"
   ]
  },
  {
   "cell_type": "code",
   "execution_count": 46,
   "metadata": {},
   "outputs": [],
   "source": [
    "data['Application-Issue'] = data['Application-Issue'].fillna(data['Application-Issue'].mean())\n",
    "data['Issue-Final'] = data['Issue-Final'].fillna(data['Issue-Final'].mean())\n",
    "data['Issue-Expiration'] = data['Issue-Expiration'].fillna(data['Issue-Expiration'].mean())"
   ]
  },
  {
   "cell_type": "code",
   "execution_count": 47,
   "metadata": {},
   "outputs": [],
   "source": [
    "del data['Issue Date']\n",
    "del data['Application Date']\n",
    "del data['Final Date']\n",
    "del data['Expiration Date']"
   ]
  },
  {
   "cell_type": "code",
   "execution_count": 48,
   "metadata": {},
   "outputs": [],
   "source": [
    "from sklearn.preprocessing import StandardScaler\n",
    "\n",
    "sc = StandardScaler()\n",
    "data['Application-Issue'] = sc.fit_transform(data[['Application-Issue']])\n",
    "data['Issue-Final'] = sc.fit_transform(data[['Issue-Final']])\n",
    "data['Issue-Expiration'] = sc.fit_transform(data[['Issue-Expiration']])"
   ]
  },
  {
   "cell_type": "code",
   "execution_count": 49,
   "metadata": {},
   "outputs": [],
   "source": [
    "import nltk                                         \n",
    "from nltk.corpus import stopwords                   \n",
    "from nltk.stem import PorterStemmer                 \n",
    "from sklearn.feature_extraction.text import TfidfVectorizer          \n",
    "from gensim.models import Word2Vec \n",
    "import re"
   ]
  },
  {
   "cell_type": "code",
   "execution_count": 51,
   "metadata": {},
   "outputs": [],
   "source": [
    "descriptions = data['Description']"
   ]
  },
  {
   "cell_type": "code",
   "execution_count": 52,
   "metadata": {},
   "outputs": [],
   "source": [
    "temp =[]\n",
    "snow = nltk.stem.SnowballStemmer('english')\n",
    "for sentence in descriptions:\n",
    "    try:\n",
    "        sentence = sentence.lower()                 # Converting to lowercase\n",
    "        cleanr = re.compile('<.*?>')\n",
    "        sentence = re.sub(cleanr, ' ', sentence)        #Removing HTML tags\n",
    "        sentence = re.sub(r'[?|!|\\'|\"|#]',r'',sentence)\n",
    "        sentence = re.sub(r'[.|,|)|(|\\|/]',r' ',sentence)        #Removing Punctuations\n",
    "        words = [snow.stem(word) for word in sentence.split() if word not in stopwords.words('english')]   # Stemming and removing stopwords\n",
    "        temp.append(words)\n",
    "    except:\n",
    "        temp.append('Empty')\n",
    "    \n",
    "descriptions = temp "
   ]
  },
  {
   "cell_type": "code",
   "execution_count": 53,
   "metadata": {},
   "outputs": [],
   "source": [
    "temp = []\n",
    "\n",
    "for row in descriptions:\n",
    "    sentence = \" \".join(row)\n",
    "    temp.append(sentence)\n",
    "    \n",
    "descriptions = temp"
   ]
  },
  {
   "cell_type": "code",
   "execution_count": 54,
   "metadata": {},
   "outputs": [],
   "source": [
    "tf_idf = TfidfVectorizer(max_features = 500)\n",
    "descriptions = tf_idf.fit_transform(descriptions)"
   ]
  },
  {
   "cell_type": "code",
   "execution_count": 55,
   "metadata": {},
   "outputs": [],
   "source": [
    "descriptions = descriptions.todense()"
   ]
  },
  {
   "cell_type": "code",
   "execution_count": 56,
   "metadata": {},
   "outputs": [],
   "source": [
    "del data['Description']\n",
    "del data['Applicant Name']"
   ]
  },
  {
   "cell_type": "code",
   "execution_count": 58,
   "metadata": {},
   "outputs": [],
   "source": [
    "from sklearn.preprocessing import LabelEncoder\n",
    "from sklearn.metrics import f1_score\n",
    "from sklearn.metrics.scorer import make_scorer\n",
    "from sklearn.model_selection import cross_val_score, cross_validate, GridSearchCV\n",
    "from sklearn.linear_model import LogisticRegression\n",
    "from sklearn.tree import DecisionTreeClassifier, ExtraTreeClassifier\n",
    "from sklearn.ensemble import RandomForestClassifier, AdaBoostClassifier, GradientBoostingClassifier\n",
    "from xgboost.sklearn import XGBClassifier\n",
    "from sklearn.neural_network import MLPClassifier\n",
    "from sklearn.neighbors import KNeighborsClassifier\n",
    "from sklearn.discriminant_analysis import QuadraticDiscriminantAnalysis\n",
    "from sklearn.feature_selection import SelectKBest, chi2"
   ]
  },
  {
   "cell_type": "code",
   "execution_count": 59,
   "metadata": {},
   "outputs": [
    {
     "name": "stdout",
     "output_type": "stream",
     "text": [
      "(33539, 70)\n",
      "(22360, 69)\n"
     ]
    }
   ],
   "source": [
    "train_data = data.iloc[:n_train_data]\n",
    "test_data = data.iloc[n_train_data:]\n",
    "\n",
    "del test_data['Category']\n",
    "\n",
    "print(train_data.shape)\n",
    "print(test_data.shape)"
   ]
  },
  {
   "cell_type": "code",
   "execution_count": 60,
   "metadata": {},
   "outputs": [],
   "source": [
    "le = LabelEncoder()\n",
    "train_data['Category'] = le.fit_transform(train_data['Category'])"
   ]
  },
  {
   "cell_type": "code",
   "execution_count": 61,
   "metadata": {},
   "outputs": [],
   "source": [
    "train_y = train_data['Category']\n",
    "del train_data['Category']\n",
    "train_X = train_data\n",
    "\n",
    "test_X = test_data"
   ]
  },
  {
   "cell_type": "code",
   "execution_count": 69,
   "metadata": {},
   "outputs": [
    {
     "data": {
      "text/html": [
       "<div>\n",
       "<style scoped>\n",
       "    .dataframe tbody tr th:only-of-type {\n",
       "        vertical-align: middle;\n",
       "    }\n",
       "\n",
       "    .dataframe tbody tr th {\n",
       "        vertical-align: top;\n",
       "    }\n",
       "\n",
       "    .dataframe thead th {\n",
       "        text-align: right;\n",
       "    }\n",
       "</style>\n",
       "<table border=\"1\" class=\"dataframe\">\n",
       "  <thead>\n",
       "    <tr style=\"text-align: right;\">\n",
       "      <th></th>\n",
       "      <th>Feature</th>\n",
       "      <th>Score</th>\n",
       "    </tr>\n",
       "  </thead>\n",
       "  <tbody>\n",
       "    <tr>\n",
       "      <th>29</th>\n",
       "      <td>Pos-y</td>\n",
       "      <td>0.211136</td>\n",
       "    </tr>\n",
       "    <tr>\n",
       "      <th>28</th>\n",
       "      <td>Pos-x</td>\n",
       "      <td>0.197627</td>\n",
       "    </tr>\n",
       "    <tr>\n",
       "      <th>30</th>\n",
       "      <td>Pos-z</td>\n",
       "      <td>0.194764</td>\n",
       "    </tr>\n",
       "    <tr>\n",
       "      <th>66</th>\n",
       "      <td>Application-Issue</td>\n",
       "      <td>0.059244</td>\n",
       "    </tr>\n",
       "    <tr>\n",
       "      <th>67</th>\n",
       "      <td>Issue-Final</td>\n",
       "      <td>0.056346</td>\n",
       "    </tr>\n",
       "    <tr>\n",
       "      <th>68</th>\n",
       "      <td>Issue-Expiration</td>\n",
       "      <td>0.044213</td>\n",
       "    </tr>\n",
       "    <tr>\n",
       "      <th>54</th>\n",
       "      <td>Address Number_Other</td>\n",
       "      <td>0.035385</td>\n",
       "    </tr>\n",
       "    <tr>\n",
       "      <th>20</th>\n",
       "      <td>Contractor_Not Known</td>\n",
       "      <td>0.020803</td>\n",
       "    </tr>\n",
       "    <tr>\n",
       "      <th>0</th>\n",
       "      <td>Work Type</td>\n",
       "      <td>0.019976</td>\n",
       "    </tr>\n",
       "    <tr>\n",
       "      <th>63</th>\n",
       "      <td>Remaining Address_Other</td>\n",
       "      <td>0.019492</td>\n",
       "    </tr>\n",
       "    <tr>\n",
       "      <th>4</th>\n",
       "      <td>Action Type_ADD/ALT</td>\n",
       "      <td>0.017572</td>\n",
       "    </tr>\n",
       "    <tr>\n",
       "      <th>57</th>\n",
       "      <td>Remaining Address_3RD AVE</td>\n",
       "      <td>0.011555</td>\n",
       "    </tr>\n",
       "    <tr>\n",
       "      <th>12</th>\n",
       "      <td>Status_Initial Information Collected</td>\n",
       "      <td>0.008007</td>\n",
       "    </tr>\n",
       "    <tr>\n",
       "      <th>59</th>\n",
       "      <td>Remaining Address_5TH AVE</td>\n",
       "      <td>0.007944</td>\n",
       "    </tr>\n",
       "    <tr>\n",
       "      <th>5</th>\n",
       "      <td>Action Type_ALTER</td>\n",
       "      <td>0.007567</td>\n",
       "    </tr>\n",
       "    <tr>\n",
       "      <th>8</th>\n",
       "      <td>Action Type_OTHER</td>\n",
       "      <td>0.006583</td>\n",
       "    </tr>\n",
       "    <tr>\n",
       "      <th>56</th>\n",
       "      <td>Remaining Address_2ND AVE</td>\n",
       "      <td>0.006451</td>\n",
       "    </tr>\n",
       "    <tr>\n",
       "      <th>15</th>\n",
       "      <td>Status_Permit Closed</td>\n",
       "      <td>0.006307</td>\n",
       "    </tr>\n",
       "    <tr>\n",
       "      <th>7</th>\n",
       "      <td>Action Type_NEW</td>\n",
       "      <td>0.005980</td>\n",
       "    </tr>\n",
       "    <tr>\n",
       "      <th>60</th>\n",
       "      <td>Remaining Address_AURORA AVE N</td>\n",
       "      <td>0.004886</td>\n",
       "    </tr>\n",
       "    <tr>\n",
       "      <th>21</th>\n",
       "      <td>Contractor_Others</td>\n",
       "      <td>0.004316</td>\n",
       "    </tr>\n",
       "    <tr>\n",
       "      <th>55</th>\n",
       "      <td>Remaining Address_1ST AVE S</td>\n",
       "      <td>0.003909</td>\n",
       "    </tr>\n",
       "    <tr>\n",
       "      <th>65</th>\n",
       "      <td>Remaining Address_WESTLAKE AVE N</td>\n",
       "      <td>0.003791</td>\n",
       "    </tr>\n",
       "    <tr>\n",
       "      <th>16</th>\n",
       "      <td>Status_Permit Issued</td>\n",
       "      <td>0.003352</td>\n",
       "    </tr>\n",
       "    <tr>\n",
       "      <th>6</th>\n",
       "      <td>Action Type_DEMOLITION</td>\n",
       "      <td>0.002953</td>\n",
       "    </tr>\n",
       "    <tr>\n",
       "      <th>11</th>\n",
       "      <td>Status_CANCELLED</td>\n",
       "      <td>0.002807</td>\n",
       "    </tr>\n",
       "    <tr>\n",
       "      <th>61</th>\n",
       "      <td>Remaining Address_CALIFORNIA AVE SW</td>\n",
       "      <td>0.002380</td>\n",
       "    </tr>\n",
       "    <tr>\n",
       "      <th>25</th>\n",
       "      <td>Contractor_SEATTLE SCHOOL DISTRICT (A&amp;S)</td>\n",
       "      <td>0.002375</td>\n",
       "    </tr>\n",
       "    <tr>\n",
       "      <th>64</th>\n",
       "      <td>Remaining Address_RAINIER AVE S</td>\n",
       "      <td>0.002068</td>\n",
       "    </tr>\n",
       "    <tr>\n",
       "      <th>2</th>\n",
       "      <td>Permit Type_Demolition</td>\n",
       "      <td>0.002039</td>\n",
       "    </tr>\n",
       "    <tr>\n",
       "      <th>...</th>\n",
       "      <td>...</td>\n",
       "      <td>...</td>\n",
       "    </tr>\n",
       "    <tr>\n",
       "      <th>24</th>\n",
       "      <td>Contractor_SEATTLE PARKS DEPT</td>\n",
       "      <td>0.001166</td>\n",
       "    </tr>\n",
       "    <tr>\n",
       "      <th>49</th>\n",
       "      <td>Address Number_700</td>\n",
       "      <td>0.001058</td>\n",
       "    </tr>\n",
       "    <tr>\n",
       "      <th>1</th>\n",
       "      <td>Permit Type_Construction</td>\n",
       "      <td>0.000966</td>\n",
       "    </tr>\n",
       "    <tr>\n",
       "      <th>58</th>\n",
       "      <td>Remaining Address_4TH AVE</td>\n",
       "      <td>0.000846</td>\n",
       "    </tr>\n",
       "    <tr>\n",
       "      <th>17</th>\n",
       "      <td>Status_Reviews Completed</td>\n",
       "      <td>0.000743</td>\n",
       "    </tr>\n",
       "    <tr>\n",
       "      <th>46</th>\n",
       "      <td>Address Number_505</td>\n",
       "      <td>0.000657</td>\n",
       "    </tr>\n",
       "    <tr>\n",
       "      <th>33</th>\n",
       "      <td>Address Number_1100</td>\n",
       "      <td>0.000632</td>\n",
       "    </tr>\n",
       "    <tr>\n",
       "      <th>3</th>\n",
       "      <td>Permit Type_Site Development</td>\n",
       "      <td>0.000607</td>\n",
       "    </tr>\n",
       "    <tr>\n",
       "      <th>52</th>\n",
       "      <td>Address Number_900</td>\n",
       "      <td>0.000588</td>\n",
       "    </tr>\n",
       "    <tr>\n",
       "      <th>31</th>\n",
       "      <td>Address Number_1000</td>\n",
       "      <td>0.000525</td>\n",
       "    </tr>\n",
       "    <tr>\n",
       "      <th>45</th>\n",
       "      <td>Address Number_500</td>\n",
       "      <td>0.000522</td>\n",
       "    </tr>\n",
       "    <tr>\n",
       "      <th>18</th>\n",
       "      <td>Contractor_BURGESS DESIGN, INC</td>\n",
       "      <td>0.000462</td>\n",
       "    </tr>\n",
       "    <tr>\n",
       "      <th>43</th>\n",
       "      <td>Address Number_400</td>\n",
       "      <td>0.000452</td>\n",
       "    </tr>\n",
       "    <tr>\n",
       "      <th>34</th>\n",
       "      <td>Address Number_1101</td>\n",
       "      <td>0.000427</td>\n",
       "    </tr>\n",
       "    <tr>\n",
       "      <th>32</th>\n",
       "      <td>Address Number_1001</td>\n",
       "      <td>0.000397</td>\n",
       "    </tr>\n",
       "    <tr>\n",
       "      <th>53</th>\n",
       "      <td>Address Number_901</td>\n",
       "      <td>0.000383</td>\n",
       "    </tr>\n",
       "    <tr>\n",
       "      <th>41</th>\n",
       "      <td>Address Number_201</td>\n",
       "      <td>0.000367</td>\n",
       "    </tr>\n",
       "    <tr>\n",
       "      <th>35</th>\n",
       "      <td>Address Number_1111</td>\n",
       "      <td>0.000345</td>\n",
       "    </tr>\n",
       "    <tr>\n",
       "      <th>19</th>\n",
       "      <td>Contractor_CITY OF SEA F&amp;FD</td>\n",
       "      <td>0.000326</td>\n",
       "    </tr>\n",
       "    <tr>\n",
       "      <th>38</th>\n",
       "      <td>Address Number_1301</td>\n",
       "      <td>0.000323</td>\n",
       "    </tr>\n",
       "    <tr>\n",
       "      <th>40</th>\n",
       "      <td>Address Number_2001</td>\n",
       "      <td>0.000283</td>\n",
       "    </tr>\n",
       "    <tr>\n",
       "      <th>50</th>\n",
       "      <td>Address Number_701</td>\n",
       "      <td>0.000256</td>\n",
       "    </tr>\n",
       "    <tr>\n",
       "      <th>42</th>\n",
       "      <td>Address Number_300</td>\n",
       "      <td>0.000209</td>\n",
       "    </tr>\n",
       "    <tr>\n",
       "      <th>44</th>\n",
       "      <td>Address Number_401</td>\n",
       "      <td>0.000204</td>\n",
       "    </tr>\n",
       "    <tr>\n",
       "      <th>27</th>\n",
       "      <td>Contractor_U OF W BUILDING PERMIT</td>\n",
       "      <td>0.000195</td>\n",
       "    </tr>\n",
       "    <tr>\n",
       "      <th>36</th>\n",
       "      <td>Address Number_1200</td>\n",
       "      <td>0.000188</td>\n",
       "    </tr>\n",
       "    <tr>\n",
       "      <th>37</th>\n",
       "      <td>Address Number_1201</td>\n",
       "      <td>0.000184</td>\n",
       "    </tr>\n",
       "    <tr>\n",
       "      <th>39</th>\n",
       "      <td>Address Number_1501</td>\n",
       "      <td>0.000170</td>\n",
       "    </tr>\n",
       "    <tr>\n",
       "      <th>47</th>\n",
       "      <td>Address Number_600</td>\n",
       "      <td>0.000137</td>\n",
       "    </tr>\n",
       "    <tr>\n",
       "      <th>51</th>\n",
       "      <td>Address Number_800</td>\n",
       "      <td>0.000129</td>\n",
       "    </tr>\n",
       "  </tbody>\n",
       "</table>\n",
       "<p>69 rows × 2 columns</p>\n",
       "</div>"
      ],
      "text/plain": [
       "                                     Feature     Score\n",
       "29                                     Pos-y  0.211136\n",
       "28                                     Pos-x  0.197627\n",
       "30                                     Pos-z  0.194764\n",
       "66                         Application-Issue  0.059244\n",
       "67                               Issue-Final  0.056346\n",
       "68                          Issue-Expiration  0.044213\n",
       "54                      Address Number_Other  0.035385\n",
       "20                      Contractor_Not Known  0.020803\n",
       "0                                  Work Type  0.019976\n",
       "63                   Remaining Address_Other  0.019492\n",
       "4                        Action Type_ADD/ALT  0.017572\n",
       "57                 Remaining Address_3RD AVE  0.011555\n",
       "12      Status_Initial Information Collected  0.008007\n",
       "59                 Remaining Address_5TH AVE  0.007944\n",
       "5                          Action Type_ALTER  0.007567\n",
       "8                          Action Type_OTHER  0.006583\n",
       "56                 Remaining Address_2ND AVE  0.006451\n",
       "15                      Status_Permit Closed  0.006307\n",
       "7                            Action Type_NEW  0.005980\n",
       "60            Remaining Address_AURORA AVE N  0.004886\n",
       "21                         Contractor_Others  0.004316\n",
       "55               Remaining Address_1ST AVE S  0.003909\n",
       "65          Remaining Address_WESTLAKE AVE N  0.003791\n",
       "16                      Status_Permit Issued  0.003352\n",
       "6                     Action Type_DEMOLITION  0.002953\n",
       "11                          Status_CANCELLED  0.002807\n",
       "61       Remaining Address_CALIFORNIA AVE SW  0.002380\n",
       "25  Contractor_SEATTLE SCHOOL DISTRICT (A&S)  0.002375\n",
       "64           Remaining Address_RAINIER AVE S  0.002068\n",
       "2                     Permit Type_Demolition  0.002039\n",
       "..                                       ...       ...\n",
       "24             Contractor_SEATTLE PARKS DEPT  0.001166\n",
       "49                        Address Number_700  0.001058\n",
       "1                   Permit Type_Construction  0.000966\n",
       "58                 Remaining Address_4TH AVE  0.000846\n",
       "17                  Status_Reviews Completed  0.000743\n",
       "46                        Address Number_505  0.000657\n",
       "33                       Address Number_1100  0.000632\n",
       "3               Permit Type_Site Development  0.000607\n",
       "52                        Address Number_900  0.000588\n",
       "31                       Address Number_1000  0.000525\n",
       "45                        Address Number_500  0.000522\n",
       "18            Contractor_BURGESS DESIGN, INC  0.000462\n",
       "43                        Address Number_400  0.000452\n",
       "34                       Address Number_1101  0.000427\n",
       "32                       Address Number_1001  0.000397\n",
       "53                        Address Number_901  0.000383\n",
       "41                        Address Number_201  0.000367\n",
       "35                       Address Number_1111  0.000345\n",
       "19               Contractor_CITY OF SEA F&FD  0.000326\n",
       "38                       Address Number_1301  0.000323\n",
       "40                       Address Number_2001  0.000283\n",
       "50                        Address Number_701  0.000256\n",
       "42                        Address Number_300  0.000209\n",
       "44                        Address Number_401  0.000204\n",
       "27         Contractor_U OF W BUILDING PERMIT  0.000195\n",
       "36                       Address Number_1200  0.000188\n",
       "37                       Address Number_1201  0.000184\n",
       "39                       Address Number_1501  0.000170\n",
       "47                        Address Number_600  0.000137\n",
       "51                        Address Number_800  0.000129\n",
       "\n",
       "[69 rows x 2 columns]"
      ]
     },
     "execution_count": 69,
     "metadata": {},
     "output_type": "execute_result"
    }
   ],
   "source": [
    "model = ExtraTreeClassifier()\n",
    "model.fit(train_X,train_y)\n",
    "feature_imp = pd.DataFrame({'Feature' : train_X.columns, 'Score' : model.feature_importances_})\n",
    "feature_imp.sort_values(by=['Score'], ascending=False)"
   ]
  },
  {
   "cell_type": "code",
   "execution_count": 70,
   "metadata": {},
   "outputs": [
    {
     "name": "stdout",
     "output_type": "stream",
     "text": [
      "(33539, 569)\n",
      "(22360, 569)\n"
     ]
    }
   ],
   "source": [
    "train_X = np.hstack((train_X.values,descriptions[:n_train_data]))\n",
    "test_X = np.hstack((test_X.values, descriptions[n_train_data:]))\n",
    "print(train_X.shape)\n",
    "print(test_X.shape)"
   ]
  },
  {
   "cell_type": "code",
   "execution_count": 76,
   "metadata": {},
   "outputs": [
    {
     "name": "stdout",
     "output_type": "stream",
     "text": [
      "[0.82090987 0.82598196]\n",
      "0.8234459136727885\n"
     ]
    }
   ],
   "source": [
    "dt = DecisionTreeClassifier()\n",
    "\n",
    "scores = cross_validate(dt, train_X, train_y, cv=2, scoring=make_scorer(f1_score, average='weighted'))\n",
    "print(scores['test_score'])\n",
    "print(np.mean(scores['test_score']))"
   ]
  },
  {
   "cell_type": "code",
   "execution_count": 73,
   "metadata": {},
   "outputs": [
    {
     "name": "stdout",
     "output_type": "stream",
     "text": [
      "[0.79422716 0.80310131]\n",
      "0.7986642344039008\n"
     ]
    }
   ],
   "source": [
    "et = ExtraTreeClassifier()\n",
    "\n",
    "scores = cross_validate(et, train_X, train_y, cv=2, scoring=make_scorer(f1_score, average='weighted'))\n",
    "print(scores['test_score'])\n",
    "print(np.mean(scores['test_score']))"
   ]
  },
  {
   "cell_type": "code",
   "execution_count": 74,
   "metadata": {},
   "outputs": [
    {
     "name": "stdout",
     "output_type": "stream",
     "text": [
      "[0.8597745  0.85927436]\n",
      "0.8595244310664523\n"
     ]
    }
   ],
   "source": [
    "mlp = MLPClassifier()\n",
    "\n",
    "scores = cross_validate(mlp, train_X, train_y, cv=2, scoring=make_scorer(f1_score, average='weighted'))\n",
    "print(scores['test_score'])\n",
    "print(np.mean(scores['test_score']))"
   ]
  },
  {
   "cell_type": "code",
   "execution_count": 71,
   "metadata": {},
   "outputs": [
    {
     "name": "stdout",
     "output_type": "stream",
     "text": [
      "[0.8670596  0.87056838]\n",
      "0.8688139902217635\n"
     ]
    }
   ],
   "source": [
    "rf = RandomForestClassifier(n_estimators=200)\n",
    "\n",
    "scores = cross_validate(rf, train_X, train_y, cv=2, scoring=make_scorer(f1_score, average='weighted'))\n",
    "print(scores['test_score'])\n",
    "print(np.mean(scores['test_score']))"
   ]
  },
  {
   "cell_type": "code",
   "execution_count": 72,
   "metadata": {},
   "outputs": [
    {
     "name": "stdout",
     "output_type": "stream",
     "text": [
      "[0.87745377 0.87784918]\n",
      "0.8776514720276071\n"
     ]
    }
   ],
   "source": [
    "gb = GradientBoostingClassifier(n_estimators=200)\n",
    "\n",
    "scores = cross_validate(gb, train_X, train_y, cv=2, scoring=make_scorer(f1_score, average='weighted'))\n",
    "print(scores['test_score'])\n",
    "print(np.mean(scores['test_score']))"
   ]
  },
  {
   "cell_type": "code",
   "execution_count": 75,
   "metadata": {},
   "outputs": [
    {
     "name": "stdout",
     "output_type": "stream",
     "text": [
      "[0.87544691 0.87620012]\n",
      "0.8758235135417374\n"
     ]
    }
   ],
   "source": [
    "xgb = XGBClassifier(n_estimators=200)\n",
    "\n",
    "scores = cross_validate(xgb, train_X, train_y, cv=2, scoring=make_scorer(f1_score, average='weighted'))\n",
    "print(scores['test_score'])\n",
    "print(np.mean(scores['test_score']))"
   ]
  },
  {
   "cell_type": "code",
   "execution_count": 77,
   "metadata": {},
   "outputs": [],
   "source": [
    "clf =  gb"
   ]
  },
  {
   "cell_type": "code",
   "execution_count": 78,
   "metadata": {},
   "outputs": [
    {
     "data": {
      "text/plain": [
       "GradientBoostingClassifier(criterion='friedman_mse', init=None,\n",
       "                           learning_rate=0.1, loss='deviance', max_depth=3,\n",
       "                           max_features=None, max_leaf_nodes=None,\n",
       "                           min_impurity_decrease=0.0, min_impurity_split=None,\n",
       "                           min_samples_leaf=1, min_samples_split=2,\n",
       "                           min_weight_fraction_leaf=0.0, n_estimators=200,\n",
       "                           n_iter_no_change=None, presort='auto',\n",
       "                           random_state=None, subsample=1.0, tol=0.0001,\n",
       "                           validation_fraction=0.1, verbose=0,\n",
       "                           warm_start=False)"
      ]
     },
     "execution_count": 78,
     "metadata": {},
     "output_type": "execute_result"
    }
   ],
   "source": [
    "clf.fit(train_X, train_y)"
   ]
  },
  {
   "cell_type": "code",
   "execution_count": 79,
   "metadata": {},
   "outputs": [],
   "source": [
    "pred = clf.predict(test_X)\n",
    "predictions = le.inverse_transform(pred)"
   ]
  },
  {
   "cell_type": "code",
   "execution_count": 80,
   "metadata": {},
   "outputs": [
    {
     "data": {
      "text/html": [
       "<div>\n",
       "<style scoped>\n",
       "    .dataframe tbody tr th:only-of-type {\n",
       "        vertical-align: middle;\n",
       "    }\n",
       "\n",
       "    .dataframe tbody tr th {\n",
       "        vertical-align: top;\n",
       "    }\n",
       "\n",
       "    .dataframe thead th {\n",
       "        text-align: right;\n",
       "    }\n",
       "</style>\n",
       "<table border=\"1\" class=\"dataframe\">\n",
       "  <thead>\n",
       "    <tr style=\"text-align: right;\">\n",
       "      <th></th>\n",
       "      <th>Application/Permit Number</th>\n",
       "      <th>Category</th>\n",
       "    </tr>\n",
       "  </thead>\n",
       "  <tbody>\n",
       "    <tr>\n",
       "      <th>0</th>\n",
       "      <td>6425384</td>\n",
       "      <td>SINGLE FAMILY / DUPLEX</td>\n",
       "    </tr>\n",
       "    <tr>\n",
       "      <th>1</th>\n",
       "      <td>6496502</td>\n",
       "      <td>SINGLE FAMILY / DUPLEX</td>\n",
       "    </tr>\n",
       "    <tr>\n",
       "      <th>2</th>\n",
       "      <td>6622347</td>\n",
       "      <td>SINGLE FAMILY / DUPLEX</td>\n",
       "    </tr>\n",
       "    <tr>\n",
       "      <th>3</th>\n",
       "      <td>6565685</td>\n",
       "      <td>SINGLE FAMILY / DUPLEX</td>\n",
       "    </tr>\n",
       "    <tr>\n",
       "      <th>4</th>\n",
       "      <td>6487370</td>\n",
       "      <td>COMMERCIAL</td>\n",
       "    </tr>\n",
       "  </tbody>\n",
       "</table>\n",
       "</div>"
      ],
      "text/plain": [
       "   Application/Permit Number                Category\n",
       "0                    6425384  SINGLE FAMILY / DUPLEX\n",
       "1                    6496502  SINGLE FAMILY / DUPLEX\n",
       "2                    6622347  SINGLE FAMILY / DUPLEX\n",
       "3                    6565685  SINGLE FAMILY / DUPLEX\n",
       "4                    6487370              COMMERCIAL"
      ]
     },
     "execution_count": 80,
     "metadata": {},
     "output_type": "execute_result"
    }
   ],
   "source": [
    "out = pd.DataFrame({'Application/Permit Number' : test_IDS, 'Category' : predictions})\n",
    "out.head()"
   ]
  },
  {
   "cell_type": "code",
   "execution_count": 81,
   "metadata": {},
   "outputs": [],
   "source": [
    "out.to_csv('Sub.csv', index=False)"
   ]
  },
  {
   "cell_type": "code",
   "execution_count": null,
   "metadata": {},
   "outputs": [],
   "source": []
  }
 ],
 "metadata": {
  "kernelspec": {
   "display_name": "Python 3",
   "language": "python",
   "name": "python3"
  },
  "language_info": {
   "codemirror_mode": {
    "name": "ipython",
    "version": 3
   },
   "file_extension": ".py",
   "mimetype": "text/x-python",
   "name": "python",
   "nbconvert_exporter": "python",
   "pygments_lexer": "ipython3",
   "version": "3.7.1"
  }
 },
 "nbformat": 4,
 "nbformat_minor": 2
}
